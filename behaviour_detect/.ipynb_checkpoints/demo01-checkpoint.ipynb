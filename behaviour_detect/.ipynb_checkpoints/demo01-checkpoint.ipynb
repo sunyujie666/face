{
 "cells": [
  {
   "cell_type": "code",
   "execution_count": 1,
   "metadata": {},
   "outputs": [],
   "source": [
    "import requests\n",
    "from json import JSONDecoder\n",
    "import datetime\n",
    "import cv2\n",
    "import os\n",
    "import time\n",
    "import _thread\n",
    "from PIL import Image,ImageDraw,ImageFont"
   ]
  },
  {
   "cell_type": "code",
   "execution_count": 13,
   "metadata": {},
   "outputs": [],
   "source": [
    "\n",
    "\n",
    "KEY=\"VPCVp0TurMQ1qehFcqcoH-N4J_ngpZaj\"\n",
    "SECRET=\"G2BpBymeAWFV13W5d_J0e9jQyXAzG9xa\"\n",
    "filepath=\"F:\\\\Jupyter\\\\face\\\\behaviour_detect\\\\pic\\\\test9.jpg\"\n",
    "\n",
    "\n",
    "\n",
    "def getpoints(filepath):\n",
    "    files={\"image_file\":open(filepath,\"rb\")}\n",
    "    data={\"api_key\":KEY,\"api_secret\":SECRET}\n",
    "    starttime = datetime.datetime.now()\n",
    "    http_url=\"https://api-cn.faceplusplus.com/humanbodypp/v1/skeleton\"\n",
    "    response = requests.post(http_url,data=data,files=files)\n",
    "    endtime = datetime.datetime.now()\n",
    "    print((endtime-starttime).seconds)\n",
    "\n",
    "    req_con=response.content.decode(\"utf-8\")\n",
    "    req_dict=JSONDecoder().decode(req_con)\n",
    "\n",
    "    return req_dict\n",
    "\n",
    "        "
   ]
  },
  {
   "cell_type": "code",
   "execution_count": 14,
   "metadata": {},
   "outputs": [
    {
     "name": "stdout",
     "output_type": "stream",
     "text": [
      "2\n",
      "{'image_id': '4fieeQLbEjG65Dk1OZhIwQ==', 'request_id': '1551856635,45ff2b1c-41b1-4fce-ae5b-30ec64960b64', 'time_used': 1857, 'skeletons': []}\n"
     ]
    },
    {
     "ename": "IndexError",
     "evalue": "list index out of range",
     "output_type": "error",
     "traceback": [
      "\u001b[1;31m---------------------------------------------------------------------------\u001b[0m",
      "\u001b[1;31mIndexError\u001b[0m                                Traceback (most recent call last)",
      "\u001b[1;32m<ipython-input-14-80210bd95b6c>\u001b[0m in \u001b[0;36m<module>\u001b[1;34m()\u001b[0m\n\u001b[0;32m     43\u001b[0m \u001b[0mtest_points\u001b[0m\u001b[1;33m=\u001b[0m\u001b[0mgetpoints\u001b[0m\u001b[1;33m(\u001b[0m\u001b[0mfilepath\u001b[0m\u001b[1;33m)\u001b[0m\u001b[1;33m\u001b[0m\u001b[0m\n\u001b[0;32m     44\u001b[0m \u001b[0mprint\u001b[0m\u001b[1;33m(\u001b[0m\u001b[0mtest_points\u001b[0m\u001b[1;33m)\u001b[0m\u001b[1;33m\u001b[0m\u001b[0m\n\u001b[1;32m---> 45\u001b[1;33m \u001b[0mdrawPoints\u001b[0m\u001b[1;33m(\u001b[0m\u001b[0mtest_points\u001b[0m\u001b[1;33m)\u001b[0m\u001b[1;33m\u001b[0m\u001b[0m\n\u001b[0m",
      "\u001b[1;32m<ipython-input-14-80210bd95b6c>\u001b[0m in \u001b[0;36mdrawPoints\u001b[1;34m(points)\u001b[0m\n\u001b[0;32m     12\u001b[0m \u001b[1;33m\u001b[0m\u001b[0m\n\u001b[0;32m     13\u001b[0m     \u001b[1;31m#draw body rectangle\u001b[0m\u001b[1;33m\u001b[0m\u001b[1;33m\u001b[0m\u001b[0m\n\u001b[1;32m---> 14\u001b[1;33m     \u001b[0mrect\u001b[0m\u001b[1;33m=\u001b[0m\u001b[0mpoints\u001b[0m\u001b[1;33m[\u001b[0m\u001b[1;34m\"skeletons\"\u001b[0m\u001b[1;33m]\u001b[0m\u001b[1;33m[\u001b[0m\u001b[1;36m0\u001b[0m\u001b[1;33m]\u001b[0m\u001b[1;33m[\u001b[0m\u001b[1;34m'body_rectangle'\u001b[0m\u001b[1;33m]\u001b[0m\u001b[1;33m\u001b[0m\u001b[0m\n\u001b[0m\u001b[0;32m     15\u001b[0m     \u001b[0mleft\u001b[0m \u001b[1;33m=\u001b[0m \u001b[0mrect\u001b[0m\u001b[1;33m[\u001b[0m\u001b[1;34m'left'\u001b[0m\u001b[1;33m]\u001b[0m\u001b[1;33m\u001b[0m\u001b[0m\n\u001b[0;32m     16\u001b[0m     \u001b[0mtop\u001b[0m \u001b[1;33m=\u001b[0m \u001b[0mrect\u001b[0m\u001b[1;33m[\u001b[0m\u001b[1;34m'top'\u001b[0m\u001b[1;33m]\u001b[0m\u001b[1;33m\u001b[0m\u001b[0m\n",
      "\u001b[1;31mIndexError\u001b[0m: list index out of range"
     ]
    }
   ],
   "source": [
    "def standard(data):\n",
    "    json=data[\"skeletons\"][0][\"landmark\"]\n",
    "    #req_dict=JSONDecoder().decode(json)\n",
    "    return json\n",
    "\n",
    "\n",
    "def drawPoints(points):\n",
    "    \n",
    "    #load the picture\n",
    "    pil_image=Image.open(filepath).convert(\"RGB\")\n",
    "    draw=ImageDraw.Draw(pil_image)\n",
    "\n",
    "    #draw body rectangle\n",
    "    rect=points[\"skeletons\"][0]['body_rectangle']\n",
    "    left = rect['left']\n",
    "    top = rect['top']\n",
    "    right = rect['width']+left\n",
    "    bottom = rect['height']+top\n",
    "    draw.rectangle(((left,top),(right,bottom)),outline=(255,0,0))\n",
    "\n",
    "    font1=ImageFont.truetype('simsun.ttc',15)\n",
    "    #font1=ImageFont.truetype('symbol.ttf',15)\n",
    "    text1=\"(\"+str(left)+\",\"+str(top)+\")\"\n",
    "    draw.text((left+2,top+5),text1,fill=(255,0,255),font=font1)\n",
    "    text2=\"(\"+str(right)+\",\"+str(bottom)+\")\"\n",
    "    draw.text((right-2,bottom-5),text2,fill=(255,0,255),font=font1)\n",
    "    #draw points\n",
    "    points2=standard(points)\n",
    "    \n",
    "    for key,value in points2.items():\n",
    "        x=value['x']+left\n",
    "        y=value['y']+top\n",
    "        print(key+\", (\"+str(x)+\",\"+str(y)+\")\")\n",
    "\n",
    "        draw.ellipse(((x-2,y-2),(x+2,y+2)),fill=(255,0,255))\n",
    "        text=key+\"(\"+str(x)+\",\"+str(y)+\")\"\n",
    "        draw.text((x+2,y-5),text,fill=(245,245,220),font=font1)\n",
    "\n",
    "\n",
    "    del draw\n",
    "    pil_image.show()\n",
    "    \n",
    "test_points=getpoints(filepath)\n",
    "print(test_points)\n",
    "drawPoints(test_points)"
   ]
  },
  {
   "cell_type": "code",
   "execution_count": 4,
   "metadata": {},
   "outputs": [],
   "source": [
    "def detect(filepath):\n",
    "    http_url=\"https://api-cn.faceplusplus.com/facepp/v3/detect\"\n",
    "    files={\"image_file\":open(filepath,\"rb\")}\n",
    "    data={\"api_key\":KEY,\"api_secret\":SECRET,\"return_attributes\":\"gender,headpose,eyegaze,eyestatus\"}\n",
    "    \n",
    "    starttime = datetime.datetime.now()\n",
    "    response = requests.post(http_url,data=data,files=files)\n",
    "    endtime = datetime.datetime.now()\n",
    "    #print((endtime-starttime).seconds)\n",
    "\n",
    "    req_con=response.content.decode(\"utf-8\")\n",
    "    req_dict=JSONDecoder().decode(req_con)\n",
    "    return req_dict\n",
    "\n",
    "\n",
    "def getEyeStatus(status):\n",
    "    eye_status=status['faces'][0]['attributes']['eyestatus']\n",
    "    left_eye=eye_status['left_eye_status']\n",
    "    right_eye=eye_status['right_eye_status']\n",
    "\n",
    "    temp=0\n",
    "    for key,value in left_eye.items():\n",
    "        if value>temp:\n",
    "            temp=value\n",
    "            left_eye_status=key\n",
    "    #print(left_eye_status)\n",
    "\n",
    "    if value>=80 and (left_eye_status=='normal_glass_eye_close' or left_eye_status=='no_glass_eye_close'):\n",
    "        left_eye_status=\"close\"\n",
    "    else:\n",
    "        left_eye_status=\"open\"\n",
    "    \n",
    "    temp=0\n",
    "    for key,value in right_eye.items():\n",
    "        if value>temp:\n",
    "            temp=value\n",
    "            right_eye_status=key\n",
    "        \n",
    "    if value>=80 and (right_eye_status=='normal_glass_eye_close' or right_eye_status=='no_glass_eye_close'):\n",
    "        right_eye_status=\"close\"\n",
    "    else:\n",
    "        right_eye_status=\"open\"\n",
    "    return left_eye_status,right_eye_status\n"
   ]
  },
  {
   "cell_type": "code",
   "execution_count": 5,
   "metadata": {},
   "outputs": [
    {
     "data": {
      "text/plain": [
       "-6.455431"
      ]
     },
     "execution_count": 5,
     "metadata": {},
     "output_type": "execute_result"
    }
   ],
   "source": [
    "def getHeadStatus(status):\n",
    "    head=status['faces'][0]['attributes']['headpose']\n",
    "    head_pitch_angle=head['pitch_angle']\n",
    "    return head_pitch_angle    \n",
    "status=detect(\"C:\\\\Users\\\\18037\\\\Desktop\\\\eye01.jpg\")\n",
    "getHeadStatus(status)"
   ]
  },
  {
   "cell_type": "code",
   "execution_count": 6,
   "metadata": {},
   "outputs": [
    {
     "name": "stdout",
     "output_type": "stream",
     "text": [
      "1\n",
      "读写\n"
     ]
    }
   ],
   "source": [
    "def getStatus(points):\n",
    "    status=0\n",
    "    #print(points)\n",
    "    if len(points['skeletons'])!=0:\n",
    "        print(\"fuck\")\n",
    "        rect=points[\"skeletons\"][0]['body_rectangle']\n",
    "        left = rect['left']\n",
    "        top = rect['top']\n",
    "        right = rect['width']+left\n",
    "        bottom = rect['height']+top\n",
    "        width=rect['width']\n",
    "        height=rect['height']\n",
    "\n",
    "        #参照(头颈距离)\n",
    "        consult=points[\"skeletons\"][0]['landmark']['neck']['y']-points[\"skeletons\"][0]['landmark']['head']['y']\n",
    "        #print(consult)\n",
    "\n",
    "        points2=standard(points)\n",
    "\n",
    "        left_elbow=points2['left_elbow']\n",
    "        left_hand=points2['left_hand']\n",
    "        right_elbow=points2['right_elbow']\n",
    "        right_hand=points2['right_hand']\n",
    "        #通过手与肘的位置关系，判断学生是否站立\n",
    "        if left_hand['y']-left_elbow['y']>0.6*consult or right_hand['y']-right_elbow['y']>0.6*consult:\n",
    "            status=1\n",
    "            return status\n",
    "        \n",
    "        #通过判断截取的人体线框的长宽关系\n",
    "        if width>height:\n",
    "            status=6\n",
    "            return status\n",
    "    \n",
    "\n",
    "    detect_status=detect(filepath)\n",
    "    #print(detect_status)\n",
    "    #根据眼睛情况判断是否睡觉\n",
    "    (left_eye_status,right_eye_status)=getEyeStatus(detect_status)\n",
    "    if left_eye_status==\"close\" or right_eye_status==\"close\":\n",
    "        status=2\n",
    "    else:\n",
    "        #是否趴桌子3\n",
    "\n",
    "        #根据偷得角度判断听讲4or读写5\n",
    "        head_angle=getHeadStatus(detect_status)\n",
    "        if head_angle<-5:\n",
    "            status=4\n",
    "        elif head_angle>5:\n",
    "            status=5\n",
    "        \n",
    "    \n",
    "    return status\n",
    "\n",
    "\n",
    "dic={0:\"未知\",1:\"站立\",2:\"睡觉\",3:\"趴桌子\",4:\"听讲\",5:\"读写\",6:\"趴桌子\"}\n",
    "\n",
    "points=getpoints(filepath) \n",
    "result=getStatus(points)\n",
    "print(dic[result])"
   ]
  }
 ],
 "metadata": {
  "kernelspec": {
   "display_name": "Python 3",
   "language": "python",
   "name": "python3"
  },
  "language_info": {
   "codemirror_mode": {
    "name": "ipython",
    "version": 3
   },
   "file_extension": ".py",
   "mimetype": "text/x-python",
   "name": "python",
   "nbconvert_exporter": "python",
   "pygments_lexer": "ipython3",
   "version": "3.6.4"
  }
 },
 "nbformat": 4,
 "nbformat_minor": 2
}
