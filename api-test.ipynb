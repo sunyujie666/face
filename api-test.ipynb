{
 "cells": [
  {
   "cell_type": "code",
   "execution_count": 22,
   "metadata": {},
   "outputs": [
    {
     "name": "stdout",
     "output_type": "stream",
     "text": [
      "Found 5 face(s) in this photograph.\n",
      "A face is located at pixel location Top:118,left:613,Bottom:170,Right:665\n",
      "A face is located at pixel location Top:142,left:237,Bottom:185,Right:280\n",
      "A face is located at pixel location Top:136,left:60,Bottom:188,Right:112\n",
      "A face is located at pixel location Top:136,left:798,Bottom:188,Right:849\n",
      "A face is located at pixel location Top:147,left:412,Bottom:199,Right:463\n"
     ]
    }
   ],
   "source": [
    "import face_recognition\n",
    "from PIL import Image\n",
    "\n",
    "#Load the jpg file into a numpy array\n",
    "image=face_recognition.load_image_file(\"F:\\\\Jupyter\\\\face\\\\api_test\\\\test09.jpg\")\n",
    "\n",
    "#find all the faces in the iamge using default HOG-based model.\n",
    "#This method is fairly accurate,but not as accurates as the CNN model and not GPU accelerated.\n",
    "#See also: find_faces_in_picture_cnn.py\n",
    "face_locations=face_recognition.face_locations(image)\n",
    "print(\"Found {} face(s) in this photograph.\".format(len(face_locations)))\n",
    "\n",
    "i=0;\n",
    "for face_location in face_locations:\n",
    "    \n",
    "    #print the location of each face in this image\n",
    "    top,right,bottom,left =face_location\n",
    "    print(\"A face is located at pixel location Top:{},left:{},Bottom:{},Right:{}\".format(\n",
    "        top,left,bottom,right))\n",
    "    \n",
    "    #You can access the actual face itself like this:\n",
    "    face_image=image[top:bottom,left:right]\n",
    "    pil_image=Image.fromarray(face_image)\n",
    "    #pil_image.save(str(i)+\".png\")\n",
    "    i=i+1\n",
    "    \n",
    "    pil_image.show()"
   ]
  }
 ],
 "metadata": {
  "kernelspec": {
   "display_name": "Python 3",
   "language": "python",
   "name": "python3"
  },
  "language_info": {
   "codemirror_mode": {
    "name": "ipython",
    "version": 3
   },
   "file_extension": ".py",
   "mimetype": "text/x-python",
   "name": "python",
   "nbconvert_exporter": "python",
   "pygments_lexer": "ipython3",
   "version": "3.6.4"
  }
 },
 "nbformat": 4,
 "nbformat_minor": 2
}
